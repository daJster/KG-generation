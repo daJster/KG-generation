{
  "nbformat": 4,
  "nbformat_minor": 0,
  "metadata": {
    "colab": {
      "provenance": []
    },
    "kernelspec": {
      "name": "python3",
      "display_name": "Python 3"
    },
    "language_info": {
      "name": "python"
    }
  },
  "cells": [
    {
      "cell_type": "markdown",
      "source": [
        "Ce fichier est une première version ''essai'' pour merge des entités et non des triplets, extraits de mRebel.\n",
        "Il n'a pas besoin d'amélioration, c'est une ancienne version, la nouvelle favorise le merge sur toute la relation."
      ],
      "metadata": {
        "id": "Vbhes-1-U_g4"
      }
    },
    {
      "cell_type": "markdown",
      "source": [
        "Using ALl-MiniLM to merge entites from a triplets extration LLM"
      ],
      "metadata": {
        "id": "3j9ZiUEZ1nss"
      }
    },
    {
      "cell_type": "code",
      "execution_count": null,
      "metadata": {
        "id": "HthSBJ4Z1KmA"
      },
      "outputs": [],
      "source": [
        "%%capture\n",
        "!pip install sentence-transformers torch"
      ]
    },
    {
      "cell_type": "code",
      "source": [
        "%%capture\n",
        "from sentence_transformers import SentenceTransformer, util\n",
        "import torch\n",
        "\n",
        "# Sentence Transformer model\n",
        "model = SentenceTransformer('sentence-transformers/all-MiniLM-L6-v2')"
      ],
      "metadata": {
        "id": "9yhQzDMP1cOW"
      },
      "execution_count": null,
      "outputs": []
    },
    {
      "cell_type": "markdown",
      "source": [
        "Examples of relations"
      ],
      "metadata": {
        "id": "L_5ltFN61tFw"
      }
    },
    {
      "cell_type": "code",
      "source": [
        "r1 = {'head': 'Université Lyon 2', 'head_type': 'org', 'type': 'subsidiary', 'tail': 'Paris School of Economics', 'tail_type': 'org'}\n",
        "r2 = {'head': 'Université Lumière Lyon 2', 'head_type': 'org', 'type': 'part of', 'tail': 'GATE', 'tail_type': 'org'}\n",
        "\n",
        "relations = [r1,r2]"
      ],
      "metadata": {
        "id": "lrMrE2pR1eKG"
      },
      "execution_count": null,
      "outputs": []
    },
    {
      "cell_type": "markdown",
      "source": [
        "Comparing loop"
      ],
      "metadata": {
        "id": "qRlTn63U9u4-"
      }
    },
    {
      "cell_type": "code",
      "source": [
        "def merge_entities(relations, threshold = 0.7):\n",
        "  for i in range(len(relations)):\n",
        "      for j in range(i+1, len(relations)):\n",
        "          if relations[i]['head_type'] == relations[j]['head_type']:\n",
        "              entity1 = relations[i]['head']\n",
        "              entity2 = relations[j]['head']\n",
        "\n",
        "              embeddings1 = model.encode(entity1, convert_to_tensor=True)\n",
        "              embeddings2 = model.encode(entity2, convert_to_tensor=True)\n",
        "\n",
        "              similarity = util.pytorch_cos_sim(embeddings1, embeddings2).item()\n",
        "              print(\"Similarity: \", similarity)\n",
        "              if similarity >= threshold:\n",
        "                  # Choose which entity to keep (e.g., the more specific one)\n",
        "                  chosen_entity = entity1 if len(entity1) < len(entity2) else entity2\n",
        "                  # Update the head of the second relation\n",
        "                  relations[j]['head'] = chosen_entity"
      ],
      "metadata": {
        "id": "ERlVr4cR9dxv"
      },
      "execution_count": null,
      "outputs": []
    },
    {
      "cell_type": "markdown",
      "source": [
        "Pretty print"
      ],
      "metadata": {
        "id": "B9gnWKJqAa41"
      }
    },
    {
      "cell_type": "code",
      "source": [
        "def pretty_print_relations(relations):\n",
        "    for relation in relations:\n",
        "        print(\"Relation:\")\n",
        "        for key, value in relation.items():\n",
        "            print(f\"    {key}: {value}\")"
      ],
      "metadata": {
        "id": "JuRPh8qr-niG"
      },
      "execution_count": null,
      "outputs": []
    },
    {
      "cell_type": "code",
      "source": [
        "merge_entities(relations)\n",
        "pretty_print_relations(relations)"
      ],
      "metadata": {
        "colab": {
          "base_uri": "https://localhost:8080/"
        },
        "id": "LUoNT0BqAiA6",
        "outputId": "b021a891-0188-4a85-a38d-361cad2029ee"
      },
      "execution_count": null,
      "outputs": [
        {
          "output_type": "stream",
          "name": "stdout",
          "text": [
            "Similarity:  0.9405850172042847\n",
            "Relation:\n",
            "    head: Université Lyon 2\n",
            "    head_type: org\n",
            "    type: subsidiary\n",
            "    tail: Paris School of Economics\n",
            "    tail_type: org\n",
            "Relation:\n",
            "    head: Université Lyon 2\n",
            "    head_type: org\n",
            "    type: part of\n",
            "    tail: GATE\n",
            "    tail_type: org\n"
          ]
        }
      ]
    },
    {
      "cell_type": "markdown",
      "source": [
        "Autre test\n"
      ],
      "metadata": {
        "id": "JOEzY-IbBipY"
      }
    },
    {
      "cell_type": "code",
      "source": [
        "r3 = {'head': 'Napoleon', 'head_type': 'per', 'type': 'applies to jurisdiction', 'tail': 'French Republic', 'tail_type': 'loc'}\n",
        "r4 = {'head': 'Napoleon Bonaparte', 'head_type': 'per', 'type': 'position held', 'tail': 'Emperor', 'tail_type': 'per'}\n",
        "\n",
        "relations_2 = [r3,r4]"
      ],
      "metadata": {
        "id": "iynBSmocBjq4"
      },
      "execution_count": null,
      "outputs": []
    },
    {
      "cell_type": "code",
      "source": [
        "merge_entities(relations_2)\n",
        "pretty_print_relations(relations_2)"
      ],
      "metadata": {
        "colab": {
          "base_uri": "https://localhost:8080/"
        },
        "id": "ce23Jt9gBm1v",
        "outputId": "b187c29d-a3fa-4f4f-91d0-1d5e7aa54dfa"
      },
      "execution_count": null,
      "outputs": [
        {
          "output_type": "stream",
          "name": "stdout",
          "text": [
            "Similarity:  0.9300509095191956\n",
            "Relation:\n",
            "    head: Napoleon\n",
            "    head_type: per\n",
            "    type: applies to jurisdiction\n",
            "    tail: French Republic\n",
            "    tail_type: loc\n",
            "Relation:\n",
            "    head: Napoleon\n",
            "    head_type: per\n",
            "    type: position held\n",
            "    tail: Emperor\n",
            "    tail_type: per\n"
          ]
        }
      ]
    }
  ]
}